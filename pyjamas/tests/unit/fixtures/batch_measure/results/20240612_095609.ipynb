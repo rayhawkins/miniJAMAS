{
 "cells": [
  {
   "cell_type": "markdown",
   "id": "b9876afa",
   "metadata": {},
   "source": [
    "# PyJAMAS notebook 20240612_095609"
   ]
  },
  {
   "cell_type": "markdown",
   "id": "e26ae0df",
   "metadata": {},
   "source": [
    "We start by importing the packages necessary to run and plot the analysis. We also create lists that define what we will be plotting."
   ]
  },
  {
   "cell_type": "code",
   "execution_count": null,
   "id": "11f150c4",
   "metadata": {},
   "outputs": [],
   "source": [
    "import ipywidgets as widgets\n",
    "import matplotlib\n",
    "import matplotlib.pyplot as plt\n",
    "%matplotlib inline\n",
    "import numpy\n",
    "import pandas as pd\n",
    "import seaborn as sns"
   ]
  },
  {
   "cell_type": "code",
   "execution_count": null,
   "id": "cc74d789",
   "metadata": {},
   "outputs": [],
   "source": [
    "TIME_PLOTS = ['area (μm²)', 'perimeter (μm)', 'circularity (dimensionless)', 'raw pixel values interior', 'raw pixel values perimeter', 'image mean', 'image mode', 'normalized pixel values interior', 'normalized pixel values perimeter', 'std interior', 'std perimeter', 'normalized std interior', 'normalized std perimeter', 'heterogeneity interior', 'heterogeneity perimeter', 'total normalized pixel values interior', 'total normalized pixel values perimeter', 'scaled normalized pixel values interior', 'scaled normalized pixel values perimeter', 'area (%)', 'perimeter (%)', 'circularity (%)', 'raw pixel values interior (%)', 'raw pixel values perimeter (%)']\n",
    "BOX_PLOTS = ['closure rate constant - area (1/min)', 'closure rate constant - perimeter (1/min)', 'area (% change)', 'perimeter (% change)', 'circularity (% change)', 'normalized pixel values interior (% change)', 'normalized pixel values perimeter (% change)', 'total normalized pixel values interior (% change)', 'total normalized pixel values perimeter (% change)', 'heterogeneity interior (% change)', 'heterogeneity perimeter (% change)']"
   ]
  },
  {
   "cell_type": "markdown",
   "id": "132aee3f",
   "metadata": {},
   "source": [
    "Run the analysis (uncomment the code in this cell; otherwise see below to load analysis results from disk):"
   ]
  },
  {
   "cell_type": "code",
   "execution_count": null,
   "id": "2a68cab8",
   "metadata": {},
   "outputs": [],
   "source": [
    "# import sys\n",
    "# sys.path.extend(['/Users/rodrigo/src/pyjamas_dev'])\n",
    "# from pyjamas.pjscore import PyJAMAS\n",
    "\n",
    "# a = PyJAMAS()\n",
    "\n",
    "# parameters = {'folders': ['/Users/rodrigo/src/pyjamas_dev/pyjamas/tests/unit/fixtures/batch_measure/water_1', '/Users/rodrigo/src/pyjamas_dev/pyjamas/tests/unit/fixtures/batch_measure/water_2', '/Users/rodrigo/src/pyjamas_dev/pyjamas/tests/unit/fixtures/batch_measure/juice'], 'analyze_flag': True, 'analysis_filename_appendix': '_analysis', 'analysis_extension': '.csv', 'save_results': True, 'script_filename_appendix': '_analysis_script.ipynb', 'results_folder': '/Users/rodrigo/src/pyjamas_dev/pyjamas/tests/unit/fixtures/batch_measure/results', 'intensity_flag': True, 'image_extension': '.tif', 'normalize_intensity_flag': 0, 't_res': 30.0, 'xy_res': 0.178, 'index_time_zero': 2, 'plot_flag': False, 'names': ['water 1', 'water 2', 'juice'], 'err_style_value': 'band', 'plot_style_value': 'box', 'brush_sz': 3}\n",
    "\n",
    "# a.batch.cbMeasureBatch(parameters)"
   ]
  },
  {
   "cell_type": "markdown",
   "id": "858b8a94",
   "metadata": {},
   "source": [
    "Or load analysis results from disk:"
   ]
  },
  {
   "cell_type": "code",
   "execution_count": null,
   "id": "b49307a4",
   "metadata": {},
   "outputs": [],
   "source": [
    "all_data = pd.read_csv('/Users/rodrigo/src/pyjamas_dev/pyjamas/tests/unit/fixtures/batch_measure/results/20240612_095609_analysis.csv')"
   ]
  },
  {
   "cell_type": "markdown",
   "id": "dd47d921",
   "metadata": {},
   "source": [
    "Plot results: first, set up plots."
   ]
  },
  {
   "cell_type": "code",
   "execution_count": null,
   "id": "86814bab",
   "metadata": {},
   "outputs": [],
   "source": [
    "sns.set()\n",
    "sns.set_style(\"white\")\n",
    "plt.rcParams['font.size'] = 14\n",
    "plt.rcParams['font.weight'] = 'bold'\n",
    "plt.rcParams['xtick.labelsize'] = 16\n",
    "plt.rcParams['ytick.labelsize'] = 16\n",
    "plt.rcParams['axes.labelsize'] = 18\n",
    "plt.rcParams['axes.labelweight'] = 'bold'\n",
    "plt.rcParams['legend.fontsize'] = 14\n",
    "plt.rcParams['figure.figsize'] = [8, 6]\n",
    "# plt.xkcd()  # xkcd plotting style :)\n",
    "\n",
    "n_groups: int = len(numpy.unique(all_data['experimental group']))\n",
    "a_palette = sns.color_palette('bright', n_groups)"
   ]
  },
  {
   "cell_type": "markdown",
   "id": "cfa1538c",
   "metadata": {},
   "source": [
    "## Means plots comparing two groups.\n",
    "You may use *plt.savefig(\"file_name.ext\")* after the code that creates a figure to save the figure. *ext* can be png, svg, etc ..."
   ]
  },
  {
   "cell_type": "code",
   "execution_count": null,
   "id": "ae210df1",
   "metadata": {},
   "outputs": [],
   "source": [
    "@widgets.interact(metric=TIME_PLOTS)\n",
    "def mean_time_plots(metric):\n",
    "    ax = sns.lineplot(x='time (min)', y=metric, hue='experimental group', data=all_data, errorbar='se', err_style='band', lw=3, palette=a_palette)\n",
    "    handles, _ = ax.get_legend_handles_labels()\n",
    "    ax.legend(handles=handles, labels=['water 1', 'water 2', 'juice'], frameon=False)\n",
    "    sns.despine()\n",
    "    return"
   ]
  },
  {
   "cell_type": "markdown",
   "id": "30c3fc38",
   "metadata": {},
   "source": [
    "## Plot individual curves for each of the experiments.\n",
    "You may use *plt.savefig(\"file_name.ext\")* after the code that creates a figure to save the figure. *ext* can be png, svg, etc ..."
   ]
  },
  {
   "cell_type": "code",
   "execution_count": null,
   "id": "5ac3599d",
   "metadata": {},
   "outputs": [],
   "source": [
    "@widgets.interact(metric=TIME_PLOTS)\n",
    "def individual_time_plots(metric):\n",
    "    ax = sns.lineplot(x='time (min)', y=metric, hue='experimental group', data=all_data, estimator=None, units='experiment index', lw=3, legend='full', palette=a_palette)\n",
    "    handles, labels = ax.get_legend_handles_labels()\n",
    "    ax.legend(handles=handles[0:], labels=labels[0:], frameon=False)\n",
    "    sns.despine()\n",
    "    \n",
    "    for a_group in ['water 1', 'water 2', 'juice']:\n",
    "        plt.figure()\n",
    "        thedata = all_data[all_data['experimental group'] == a_group]\n",
    "        n_exp: int = len(numpy.unique(thedata['experiment index']).astype(int))\n",
    "        ax = sns.lineplot(x='time (min)', y=metric, hue='experiment index', data=thedata, estimator=None, units='experiment index', lw=3, palette=sns.color_palette('husl', n_exp))\n",
    "        ax.legend([str(x) for x in range(n_exp)], frameon=False, title=a_group)\n",
    "        sns.despine()\n",
    "    \n",
    "    return"
   ]
  },
  {
   "cell_type": "markdown",
   "id": "38fd39d4",
   "metadata": {},
   "source": [
    "## Box plots for summary metrics.\n",
    "You may use *plt.savefig(\"file_name.ext\")* after the code that creates a figure to save the figure. *ext* can be png, svg, etc ...\n",
    "Also note that, if you want to look at the *initial* value of any time features, you can replace *BOX_PLOTS* with *TIME_PLOTS* below."
   ]
  },
  {
   "cell_type": "code",
   "execution_count": null,
   "id": "22389da5",
   "metadata": {},
   "outputs": [],
   "source": [
    "thedata = all_data.groupby(['experimental group', 'experiment index'], as_index=False, sort=False).first()"
   ]
  },
  {
   "cell_type": "code",
   "execution_count": null,
   "id": "dca3549c",
   "metadata": {},
   "outputs": [],
   "source": [
    "@widgets.interact(metric=BOX_PLOTS)\n",
    "def box_plots(metric):\n",
    "    ax = sns.boxplot(x='experimental group', y=metric, data=thedata, hue='experimental group', dodge=False, whis=100000, palette=a_palette)\n",
    "    handles, _ = ax.get_legend_handles_labels()\n",
    "    ax.legend(handles=handles, frameon=False)\n",
    "    ax = sns.stripplot(x='experimental group', y=metric, data=thedata, color='k', alpha=0.75, size=6, dodge=False, jitter=0.05)\n",
    "    sns.despine()\n",
    "    return"
   ]
  }
 ],
 "metadata": {
  "language_info": {
   "name": "python"
  }
 },
 "nbformat": 4,
 "nbformat_minor": 5
}
